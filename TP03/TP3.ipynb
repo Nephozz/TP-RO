{
 "cells": [
  {
   "cell_type": "markdown",
   "metadata": {},
   "source": [
    "<center>\n",
    "    <h1> TP3: Programmation dynamique\n",
    "</center>"
   ]
  },
  {
   "cell_type": "markdown",
   "metadata": {},
   "source": [
    "* La programmation dynamique consiste à décomposer le problème en étapes. Chaque étape corresponds à un sous-problème résolu optimalement compte tenu des infos obtenues lors des étapes précédentes. Pour cela, il faut trouver une relation de récurrence entre les valeurs des critères de deux niveaux successifs. On effectue ensuite un parcours à rebours (de la dernière décision aux précédentes) sur le processus de décision séquentiel associé au problème afin d'obtenir la solution du problème initial."
   ]
  },
  {
   "cell_type": "markdown",
   "metadata": {},
   "source": [
    "* Algorithme de programmation dynamique permettant de résoudre le problème du sac à dos:"
   ]
  },
  {
   "cell_type": "code",
   "execution_count": 19,
   "metadata": {},
   "outputs": [
    {
     "name": "stdout",
     "output_type": "stream",
     "text": [
      "La meilleure solution est: 65.0\n",
      "Pour cela on a pris les objets: \n",
      "numéro 4 de valeur 25 et de poids 5\n",
      "numéro 2 de valeur 40 et de poids 4\n"
     ]
    }
   ],
   "source": [
    "# Construction de la matrice\n",
    "function contruire_matrice(poids, valeurs, capacite_totale)\n",
    "    nb_obj = length(poids)\n",
    "    C = zeros(capacite_totale + 1, nb_obj + 1)\n",
    "    # j indice des colonnes\n",
    "    for j in 2:(nb_obj + 1)\n",
    "        # i indice des lignes\n",
    "        for i in 2:(capacite_totale + 1)\n",
    "            if i - poids[j - 1] > 0\n",
    "                # C[i, j] = max(C[i, j - 1], C[i - p_j, j - 1] + v_j)\n",
    "                C[i, j] = max(C[i, j - 1], C[i - poids[j - 1], j - 1] + valeurs[j - 1])\n",
    "            else\n",
    "                C[i, j] = C[i, j - 1]\n",
    "            end\n",
    "        end\n",
    "    end\n",
    "    return C\n",
    "end\n",
    "\n",
    "# Trouver le chemin vers la meilleure solution\n",
    "function trouver_meilleur_chemin(C, poids, valeurs)\n",
    "    nb_ligne, nb_colonne = size(C)\n",
    "    meilleure_solution = C[nb_ligne, nb_colonne]\n",
    "    i = nb_ligne\n",
    "    j = nb_colonne\n",
    "    objet_pris = []\n",
    "    while i > 0 && j > 1\n",
    "        # l'objet a été pris\n",
    "        if i - poids[j - 1] > 0 && C[i, j] == C[i - poids[j - 1], j - 1] + valeurs[j - 1]\n",
    "            push!(objet_pris, j - 1)\n",
    "            i = i - poids[j - 1]\n",
    "        end\n",
    "        j = j - 1    \n",
    "    end\n",
    "    return objet_pris, meilleure_solution\n",
    "end\n",
    "\n",
    "# Instance du problème\n",
    "vals = [42, 40, 12, 25]\n",
    "poids = [7, 4, 3, 5]\n",
    "capacite_max = 10\n",
    "\n",
    "C = contruire_matrice(poids, vals, capacite_max)\n",
    "objet_pris, meilleure_solution = trouver_meilleur_chemin(C, poids, vals)\n",
    "\n",
    "println(\"La meilleure solution est: \", meilleure_solution)\n",
    "println(\"Pour cela on a pris les objets: \")\n",
    "for i in 1:length(objet_pris)\n",
    "    println(\"numéro \", objet_pris[i], \" de valeur \", vals[objet_pris[i]], \" et de poids \", poids[objet_pris[i]])\n",
    "end\n",
    "\n"
   ]
  },
  {
   "cell_type": "markdown",
   "metadata": {},
   "source": [
    "* Avec cette instance du problème du sac à dos, on remarque que l'on ne peut rentrer que 2 objets au maximum dans le sac. En effet la somme des poids de 3 objets, peu importe lesquels, dépasse la capacité maximale du sac qui est de 10. On peut donc assez facilement trouver que la combinaison objets 2 et 4 est la meilleure pour maximiser le bénéfice. les combinaisons possibles étant: \n",
    "    1. 1 et 3 de valeur totale 54, \n",
    "    2. 2 et 3 de valeur totale 52,\n",
    "    3. 3 et 5 de valeur totale 37.\n",
    "* Toutes ces combinaisons ont un bénéfice moins élevé que la combinaison 2 et 4."
   ]
  },
  {
   "cell_type": "markdown",
   "metadata": {},
   "source": []
  }
 ],
 "metadata": {
  "kernelspec": {
   "display_name": "Julia 1.9.4",
   "language": "julia",
   "name": "julia-1.9"
  },
  "language_info": {
   "file_extension": ".jl",
   "mimetype": "application/julia",
   "name": "julia",
   "version": "1.9.4"
  }
 },
 "nbformat": 4,
 "nbformat_minor": 2
}
