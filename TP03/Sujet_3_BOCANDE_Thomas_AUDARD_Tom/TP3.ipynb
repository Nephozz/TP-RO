{
 "cells": [
  {
   "cell_type": "markdown",
   "metadata": {},
   "source": [
    "<center>\n",
    "    <h1> TP3: Programmation dynamique\n",
    "</center>"
   ]
  },
  {
   "cell_type": "markdown",
   "metadata": {},
   "source": [
    "* La programmation dynamique consiste à décomposer le problème en étapes. Chaque étape corresponds à un sous-problème résolu optimalement compte tenu des infos obtenues lors des étapes précédentes. Pour cela, il faut trouver une relation de récurrence entre les valeurs des critères de deux niveaux successifs. On effectue ensuite un parcours à rebours (de la dernière décision aux précédentes) sur le processus de décision séquentiel associé au problème afin d'obtenir la solution du problème initial."
   ]
  },
  {
   "cell_type": "markdown",
   "metadata": {},
   "source": [
    "* Algorithme de programmation dynamique permettant de résoudre le problème du sac à dos:"
   ]
  },
  {
   "cell_type": "code",
   "execution_count": 19,
   "metadata": {},
   "outputs": [
    {
     "data": {
      "text/plain": [
       "solveKnaptxtInstance (generic function with 1 method)"
      ]
     },
     "metadata": {},
     "output_type": "display_data"
    }
   ],
   "source": [
    "# Construction de la matrice\n",
    "function contruire_matrice(poids, valeurs, capacite_totale)\n",
    "    nb_obj = length(poids)\n",
    "    C = zeros(capacite_totale + 1, nb_obj + 1)\n",
    "    # j indice des colonnes\n",
    "    for j in 2:(nb_obj + 1)\n",
    "        # i indice des lignes\n",
    "        for i in 2:(capacite_totale + 1)\n",
    "            if i - poids[j - 1] > 0\n",
    "                # C[i, j] = max(C[i, j - 1], C[i - p_j, j - 1] + v_j)\n",
    "                C[i, j] = max(C[i, j - 1], C[i - poids[j - 1], j - 1] + valeurs[j - 1])\n",
    "            else\n",
    "                C[i, j] = C[i, j - 1]\n",
    "            end\n",
    "        end\n",
    "    end\n",
    "    return C\n",
    "end\n",
    "\n",
    "# Trouver le chemin vers la meilleure solution\n",
    "function trouver_meilleur_chemin(C, poids, valeurs)\n",
    "    nb_ligne, nb_colonne = size(C)\n",
    "    meilleure_solution = C[nb_ligne, nb_colonne]\n",
    "    i = nb_ligne\n",
    "    j = nb_colonne\n",
    "    objet_pris = []\n",
    "    while i > 0 && j > 1\n",
    "        # l'objet a été pris\n",
    "        if i - poids[j - 1] > 0 && C[i, j] == C[i - poids[j - 1], j - 1] + valeurs[j - 1]\n",
    "            push!(objet_pris, j - 1)\n",
    "            i = i - poids[j - 1]\n",
    "        end\n",
    "        j = j - 1    \n",
    "    end\n",
    "    return objet_pris, meilleure_solution\n",
    "end\n",
    "\n",
    "# Récupération des données\n",
    "function readKnaptxtInstance(filename)\n",
    "    price=Int64[]\n",
    "    weight=Int64[]\n",
    "    KnapCap=Int64[]\n",
    "    open(filename) do f\n",
    "        for i in 1:3\n",
    "            tok = split(readline(f))\n",
    "            if(tok[1] == \"ListPrices=\")\n",
    "                for i in 2:(length(tok)-1)\n",
    "                    push!(price,parse(Int64, tok[i]))\n",
    "                end\n",
    "            elseif(tok[1] == \"ListWeights=\")\n",
    "                for i in 2:(length(tok)-1)\n",
    "                    push!(weight,parse(Int64, tok[i]))\n",
    "                end\n",
    "            elseif(tok[1] == \"Capacity=\")\n",
    "                push!(KnapCap, parse(Int64, tok[2]))\n",
    "            else\n",
    "                println(\"Unknown read :\", tok)\n",
    "            end\n",
    "        end\n",
    "    end\n",
    "    capacity=KnapCap[1]\n",
    "    return price, weight, capacity\n",
    "end\n",
    "\n",
    "# Résolution\n",
    "function solveKnaptxtInstance(filename)\n",
    "    vals, poids, capacite_max = readKnaptxtInstance(filename)\n",
    "\n",
    "    C = contruire_matrice(poids, vals, capacite_max)\n",
    "    objet_pris, meilleure_solution = trouver_meilleur_chemin(C, poids, vals)\n",
    "\n",
    "    println(\"La meilleure solution est: \", meilleure_solution)\n",
    "    println(\"Pour cela on a pris les objets: \")\n",
    "    for i in 1:length(objet_pris)\n",
    "        println(\"numéro \", objet_pris[i], \" de valeur \", vals[objet_pris[i]], \" et de poids \", poids[objet_pris[i]])\n",
    "    end\n",
    "end"
   ]
  },
  {
   "cell_type": "markdown",
   "metadata": {},
   "source": [
    "* Avec cette instance du problème du sac à dos, on remarque que l'on ne peut rentrer que 2 objets au maximum dans le sac. En effet la somme des poids de 3 objets, peu importe lesquels, dépasse la capacité maximale du sac qui est de 10. On peut donc assez facilement trouver que la combinaison objets 2 et 4 est la meilleure pour maximiser le bénéfice. les combinaisons possibles étant: \n",
    "    1. 1 et 3 de valeur totale 54, \n",
    "    2. 2 et 3 de valeur totale 52,\n",
    "    3. 3 et 5 de valeur totale 37.\n",
    "* Toutes ces combinaisons ont un bénéfice moins élevé que la combinaison 2 et 4."
   ]
  },
  {
   "cell_type": "code",
   "execution_count": 21,
   "metadata": {},
   "outputs": [
    {
     "name": "stdout",
     "output_type": "stream",
     "text": [
      "La meilleure solution est: 65.0\n",
      "Pour cela on a pris les objets: \n",
      "numéro 4 de valeur 25 et de poids 5\n",
      "numéro 2 de valeur 40 et de poids 4\n",
      "\u001b[34m\u001b[1m-------------------------------------------------------------------------\u001b[22m\u001b[39m\n",
      "La meilleure solution est: 1735.0\n",
      "Pour cela on a pris les objets: \n",
      "numéro 7 de valeur 617 et de poids 60\n",
      "numéro 4 de valeur 593 et de poids 59\n",
      "numéro 2 de valeur 525 et de poids 50\n",
      "\u001b[34m\u001b[1m-------------------------------------------------------------------------\u001b[22m\u001b[39m\n",
      "La meilleure solution est: 1458.0\n",
      "Pour cela on a pris les objets: \n",
      "numéro 15 de valeur 240 et de poids 120\n",
      "numéro 14 de valeur 229 et de poids 118\n",
      "numéro 9 de valeur 192 et de poids 98\n",
      "numéro 8 de valeur 184 et de poids 94\n",
      "numéro 7 de valeur 173 et de poids 90\n",
      "numéro 5 de valeur 156 et de poids 82\n",
      "numéro 3 de valeur 149 et de poids 77\n",
      "numéro 1 de valeur 135 et de poids 70\n",
      "\u001b[34m\u001b[1m-------------------------------------------------------------------------\u001b[22m\u001b[39m\n",
      "La meilleure solution est: "
     ]
    },
    {
     "name": "stdout",
     "output_type": "stream",
     "text": [
      "1.352434e7\n",
      "Pour cela on a pris les objets: \n",
      "numéro 22 de valeur 577243 et de poids 264724\n",
      "numéro 20 de valeur 65731 et de poids 31385\n",
      "numéro 17 de valeur 675367 et de poids 323046\n",
      "numéro 16 de valeur 2067538 et de poids 951111\n",
      "numéro 13 de valeur 1252836 et de poids 610856\n",
      "numéro 11 de valeur 1844992 et de poids 853665\n",
      "numéro 10 de valeur 1902996 et de poids 903959\n",
      "numéro 7 de valeur 69666 et de poids 34610\n",
      "numéro 6 de valeur 97426 et de poids 44328\n",
      "numéro 5 de valeur 943972 et de poids 467902\n",
      "numéro 4 de valeur 1523970 et de poids 729069\n",
      "numéro 2 de valeur 1677009 et de poids 799601\n",
      "numéro 1 de valeur 825594 et de poids 382745\n",
      "\u001b[34m\u001b[1m-------------------------------------------------------------------------\u001b[22m\u001b[39m\n"
     ]
    }
   ],
   "source": [
    "solveKnaptxtInstance(\"InstancesKnapSack/test.opb.txt\")\n",
    "printstyled(\"-------------------------------------------------------------------------\\n\", bold=true, color=:blue)\n",
    "\n",
    "solveKnaptxtInstance(\"InstancesKnapSack/test.opb1.txt\")\n",
    "printstyled(\"-------------------------------------------------------------------------\\n\", bold=true, color=:blue)\n",
    "\n",
    "solveKnaptxtInstance(\"InstancesKnapSack/test.opb2.txt\")\n",
    "printstyled(\"-------------------------------------------------------------------------\\n\", bold=true, color=:blue)\n",
    "\n",
    "solveKnaptxtInstance(\"InstancesKnapSack/test.opb3.txt\")\n",
    "printstyled(\"-------------------------------------------------------------------------\\n\", bold=true, color=:blue)"
   ]
  },
  {
   "cell_type": "markdown",
   "metadata": {},
   "source": [
    "- En comparant notre algorithme de programmation dynamique avec le branch-and-bound sur de plus grosse instances, nous avons constaté que les deux approches aboutissent toujours à la même solution optimale. Cependant, l'algorithme de programmation dynamique est plus d'exécution et facile d'implémentation (pour 24 objets, environ 10 min pour le Branch-and-Bound contre quelques seconde pour la programmation dynamique).\n",
    "\n",
    "- Notre approche dynamique c'est montrée d'une meilleure efficacité. De plus, le tableau utilisé pour stocker les valeurs au fur et à mesure permet de retracer chemin vers la solution optimale. En résumé, bien que les résultats soient identiques, l'algorithme de programmation dynamique se révèle plus rapide et plus pratique que le branch-and-bound."
   ]
  }
 ],
 "metadata": {
  "kernelspec": {
   "display_name": "Julia 1.8.2",
   "language": "julia",
   "name": "julia-1.8"
  },
  "language_info": {
   "file_extension": ".jl",
   "mimetype": "application/julia",
   "name": "julia",
   "version": "1.8.2"
  }
 },
 "nbformat": 4,
 "nbformat_minor": 2
}
