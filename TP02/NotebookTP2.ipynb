{
 "cells": [
  {
   "cell_type": "markdown",
   "metadata": {},
   "source": [
    "# TP 2 : Branch-and-bound applied to a knapsack problem"
   ]
  },
  {
   "cell_type": "markdown",
   "metadata": {},
   "source": [
    "### Initialisation (à faire une seule fois)"
   ]
  },
  {
   "cell_type": "code",
   "execution_count": 10,
   "metadata": {},
   "outputs": [
    {
     "name": "stderr",
     "output_type": "stream",
     "text": [
      "\u001b[32m\u001b[1m   Resolving\u001b[22m\u001b[39m package versions...\n"
     ]
    },
    {
     "name": "stderr",
     "output_type": "stream",
     "text": [
      "\u001b[32m\u001b[1m  No Changes\u001b[22m\u001b[39m to `~/Documents/RO/Project.toml`\n",
      "\u001b[32m\u001b[1m  No Changes\u001b[22m\u001b[39m to `~/Documents/RO/Manifest.toml`\n"
     ]
    },
    {
     "name": "stderr",
     "output_type": "stream",
     "text": [
      "\u001b[32m\u001b[1m   Resolving\u001b[22m\u001b[39m package versions...\n"
     ]
    },
    {
     "name": "stderr",
     "output_type": "stream",
     "text": [
      "\u001b[32m\u001b[1m  No Changes\u001b[22m\u001b[39m to `~/Documents/RO/Project.toml`\n",
      "\u001b[32m\u001b[1m  No Changes\u001b[22m\u001b[39m to `~/Documents/RO/Manifest.toml`\n"
     ]
    }
   ],
   "source": [
    "import Pkg; \n",
    "Pkg.add(\"GraphRecipes\"); Pkg.add(\"Plots\"); \n",
    "using GraphRecipes, Plots #only used to visualize the search tree at the end of the branch-and-bound"
   ]
  },
  {
   "cell_type": "markdown",
   "metadata": {},
   "source": [
    "### Récupération des données"
   ]
  },
  {
   "cell_type": "code",
   "execution_count": 1,
   "metadata": {},
   "outputs": [
    {
     "data": {
      "text/plain": [
       "readKnaptxtInstance (generic function with 1 method)"
      ]
     },
     "metadata": {},
     "output_type": "display_data"
    }
   ],
   "source": [
    "function readKnaptxtInstance(filename)\n",
    "    price=Int64[]\n",
    "    weight=Int64[]\n",
    "    KnapCap=Int64[]\n",
    "    open(filename) do f\n",
    "        for i in 1:3\n",
    "            tok = split(readline(f))\n",
    "            if(tok[1] == \"ListPrices=\")\n",
    "                for i in 2:(length(tok)-1)\n",
    "                    push!(price,parse(Int64, tok[i]))\n",
    "                end\n",
    "            elseif(tok[1] == \"ListWeights=\")\n",
    "                for i in 2:(length(tok)-1)\n",
    "                    push!(weight,parse(Int64, tok[i]))\n",
    "                end\n",
    "            elseif(tok[1] == \"Capacity=\")\n",
    "                push!(KnapCap, parse(Int64, tok[2]))\n",
    "            else\n",
    "                println(\"Unknown read :\", tok)\n",
    "            end\n",
    "        end\n",
    "    end\n",
    "    capacity=KnapCap[1]\n",
    "    return price, weight, capacity\n",
    "end"
   ]
  },
  {
   "cell_type": "markdown",
   "metadata": {},
   "source": [
    "### Tests de sondabilités TA, TO et TR basés sur le modèle linéaire"
   ]
  },
  {
   "cell_type": "code",
   "execution_count": 2,
   "metadata": {},
   "outputs": [
    {
     "data": {
      "text/plain": [
       "testSondability_LP (generic function with 1 method)"
      ]
     },
     "metadata": {},
     "output_type": "display_data"
    }
   ],
   "source": [
    "function testSondability_LP(remainingCapacity::Int64, listvals::Vector{Float64}, upperBound::Float64, BestProfit::Float64, Bestsol::Vector{Float64})\n",
    "    TA, TO, TR = false, false, false\n",
    "    if(remainingCapacity < 0)#Test de faisabilite\n",
    "        TA=true\n",
    "        println(\"TA\")\n",
    "    elseif(upperBound <= BestProfit) #Test d'optimalite\n",
    "        TO=true\n",
    "        println(\"TO\")\n",
    "    elseif( prod(abs.([round.(v, digits=0) for v in listvals]-listvals) .<= fill(10^-5, size(listvals))) \n",
    "        && prod([v .<= 1 for v in listvals])\n",
    "        ) #Test de resolution\n",
    "        TR=true\n",
    "        println(\"TR\")\n",
    "        #if (value(benef) >= BestProfit)\n",
    "        if (upperBound >= BestProfit)\n",
    "            Bestsol = listvals\n",
    "            #BestProfit=value(benef)\n",
    "            BestProfit= upperBound\n",
    "            println(\"\\nNew Solution memorized \", Bestsol, \" with bestprofit \", BestProfit, \"\\n\")\n",
    "        end\n",
    "    else\n",
    "        println(\"non sondable\")\n",
    "    end\n",
    "    TA, TO, TR, Bestsol, BestProfit\n",
    "end"
   ]
  },
  {
   "cell_type": "markdown",
   "metadata": {},
   "source": [
    "## Procédure de séparation (branching) et stratégie d'exploration permettant de se placer au prochain noeud à traiter"
   ]
  },
  {
   "cell_type": "code",
   "execution_count": 3,
   "metadata": {},
   "outputs": [
    {
     "data": {
      "text/plain": [
       "exploreNextNode_depthfirst! (generic function with 1 method)"
      ]
     },
     "metadata": {},
     "output_type": "display_data"
    }
   ],
   "source": [
    "function separateNodeThenchooseNext_lexicographic_depthfirst!(listobjs, listvals, n)\n",
    "    # this node is non-sondable. Apply the branching criterion to separate it into two subnodes\n",
    "    # and choose the child-node at the left\n",
    "\n",
    "    # lexicographic branching criterion: branch on the 1st object not yet fixed\n",
    "    i, obj = 1, 0\n",
    "    while((i <= n) && (obj==0))\n",
    "        if(!(i in listobjs))\n",
    "            obj=i\n",
    "        end\n",
    "        i+=1\n",
    "    end\n",
    "\n",
    "    println(\"\\nbranch on object \", obj, \"\\n\")\n",
    "\n",
    "    # depthfirst exploration strategy: the node selected will be the most left of the child-nodes just created\n",
    "    push!(listobjs,obj) #save the identity of the object selected for branching\n",
    "    push!(listvals,1.0) #save the node selected, identified by the value assigned to the variable/object chosen\n",
    "end\n",
    "\n",
    "\n",
    "function exploreNextNode_depthfirst!(listobjs, listvals, listnodes)\n",
    "    #this node is sondable, go back to parent node then right child if possible\n",
    "\n",
    "    stop=false\n",
    "    #check if we are not at the root node\n",
    "    if (length(listobjs)>= 1)\n",
    "        #go back to parent node\n",
    "        obj=pop!(listobjs)\n",
    "        theval=pop!(listvals)\n",
    "        tmp=pop!(listnodes)\n",
    "\n",
    "        #go to right child if possible, otherwise go back to parent\n",
    "        while( (theval==0.0) && (length(listobjs)>= 1))\n",
    "            obj=pop!(listobjs)\n",
    "            theval=pop!(listvals)\n",
    "            tmp=pop!(listnodes)\n",
    "        end\n",
    "        if theval==1.0\n",
    "            push!(listobjs,obj)\n",
    "            push!(listvals,0.0)\n",
    "        else\n",
    "            println(\"\\nFINISHED\")\n",
    "            stop=true\n",
    "        end\n",
    "    else\n",
    "        #the root node was sondable\n",
    "        println(\"\\nFINISHED\")\n",
    "        stop=true\n",
    "    end\n",
    "    return stop\n",
    "end"
   ]
  },
  {
   "cell_type": "markdown",
   "metadata": {},
   "source": [
    "###  Création de la relaxation linéaire (= modèle associé au noeud 0): <span style=\"color:red\"> SECTION A SUPPRIMER !!!! </span>\n",
    "\n",
    "<span style=\"color:red\"> Cette section est à commenter/supprimer et remplacer par vos propres calculs de bornes supérieures et autres, par exemple basées sur les bornes 1 et 2 vues en cours, ou d'autres calculs de bornes de votre choix/conception validés au préalable par votre encadrant/e de TP </span>"
   ]
  },
  {
   "cell_type": "code",
   "execution_count": 16,
   "metadata": {},
   "outputs": [
    {
     "data": {
      "text/plain": [
       "upperBound1 (generic function with 1 method)"
      ]
     },
     "metadata": {},
     "output_type": "display_data"
    }
   ],
   "source": [
    "function sortIndexRatio(weight, price)\n",
    "    # compute objects ratios\n",
    "    ratio = Float64[]\n",
    "    nbObj = length(weight)\n",
    "    for i in 1:nbObj\n",
    "        push!(ratio, price[i]/weight[i])\n",
    "    end\n",
    "\n",
    "    # return the list of objects index sorted by best ratio\n",
    "    return sortperm(ratio, rev=true)\n",
    "end\n",
    "\n",
    "function upperBound1(price, weight, remainingCapacity, listobjs, listvals)\n",
    "    listSortRatio = sortIndexRatio(weight, price)\n",
    "    \n",
    "    listxi = zeros(length(price))\n",
    "    actualBenefit = 0\n",
    "    for k in listobjs\n",
    "        actualBenefit = actualBenefit + price[k]\n",
    "        listxi[k] = listvals[k]\n",
    "    end\n",
    "    upperBound = actualBenefit\n",
    "    if length(listobjs) < length(price)\n",
    "        # find the best ratio object available\n",
    "        i = first(filter(x -> !(x in listobjs), listSortRatio))\n",
    "        upperBound = upperBound + remainingCapacity * price[i]/weight[i]\n",
    "    end\n",
    "    # value took for each x_i to compute the upper bound\n",
    "    listxi[i] = remainingCapacity / weight[i]\n",
    "    \n",
    "    return upperBound, listxi\n",
    "end"
   ]
  },
  {
   "cell_type": "markdown",
   "metadata": {},
   "source": [
    "### Boucle principale : résoudre une relaxation, appliquer les tests de sondabilité, identifier le prochain noeud, répéter."
   ]
  },
  {
   "cell_type": "code",
   "execution_count": 5,
   "metadata": {},
   "outputs": [
    {
     "data": {
      "text/plain": [
       "solveKnapInstance (generic function with 1 method)"
      ]
     },
     "metadata": {},
     "output_type": "display_data"
    }
   ],
   "source": [
    "function solveKnapInstance(filename)\n",
    "\n",
    "    price, weight, capacity = readKnaptxtInstance(filename)\n",
    "\n",
    "    #create the structure to memorize the search tree for visualization at the end\n",
    "    trParentnodes=Int64[] #will store orig node of arc in search tree\n",
    "    trChildnodes=Int64[] #will store destination node of arc in search tree\n",
    "    trNamenodes=[] #will store names of nodes in search tree\n",
    "\n",
    "    #intermediate structure to navigate in the search tree\n",
    "    listobjs=Int64[]\n",
    "    listvals=Float64[]\n",
    "    for i in 1:length(price)\n",
    "        push!(listvals, 0.0)\n",
    "    end\n",
    "    listnodes=Int64[]\n",
    "\n",
    "    BestProfit::Float64=-1.0\n",
    "    Bestsol=Float64[]\n",
    "\n",
    "    remainingCapacity = capacity\n",
    "\n",
    "    current_node_number::Int64=0\n",
    "    stop = false\n",
    "\n",
    "    while(!stop)\n",
    "\n",
    "        println(\"\\nNode number \", current_node_number, \": \\n---------------\\n\")\n",
    "\n",
    "        #Update the graphical tree\n",
    "        push!(trNamenodes,current_node_number+1) \n",
    "        if(length(trNamenodes)>=2)\n",
    "            push!(trParentnodes,listnodes[end]+1) # +1 because the 1st node is \"node 0\"\n",
    "            push!(trChildnodes, current_node_number+1) # +1 because the 1st node is \"node 0\"\n",
    "        end\n",
    "        push!(listnodes, current_node_number)\n",
    "        \n",
    "        remainingCapacity = capacity\n",
    "        for i in listobjs\n",
    "            remainingCapacity = remainingCapacity - weight[i]\n",
    "        end\n",
    "        println(\"Remaining capacity: \", remainingCapacity)\n",
    "\n",
    "        print(\"Compute upper bound: start ... \")\n",
    "\n",
    "        upperBound, listxi = upperBound1(price, weight, remainingCapacity, listobjs, listvals)\n",
    "        print(upperBound, \" with \", listxi)\n",
    "\n",
    "        println(\"... end\"); \n",
    "\n",
    "        \n",
    "        println(\"\\nPrevious Solution memorized \", Bestsol, \" with bestprofit \", BestProfit, \"\\n\")\n",
    "\n",
    "        TA, TO, TR, Bestsol, BestProfit = testSondability_LP(remainingCapacity, listxi, upperBound, BestProfit, Bestsol)\n",
    "\n",
    "        is_node_sondable = TA || TO || TR\n",
    "\n",
    "\n",
    "        if(!is_node_sondable)\n",
    "            separateNodeThenchooseNext_lexicographic_depthfirst!(listobjs, listvals, length(price))\n",
    "        else\n",
    "            stop = exploreNextNode_depthfirst!(listobjs, listvals, listnodes)\n",
    "        end\n",
    "        \n",
    "        current_node_number = current_node_number + 1\n",
    "    end\n",
    "\n",
    "    println(\"\\n******\\n\\nOptimal value = \", BestProfit, \"\\n\\nOptimal x=\", Bestsol)\n",
    "\n",
    "    return BestProfit, Bestsol, trParentnodes, trChildnodes, trNamenodes\n",
    "\n",
    "end"
   ]
  },
  {
   "cell_type": "markdown",
   "metadata": {},
   "source": [
    "### Affichage du résultat final"
   ]
  },
  {
   "cell_type": "code",
   "execution_count": 6,
   "metadata": {},
   "outputs": [
    {
     "data": {
      "text/plain": [
       "solveNdisplayKnap (generic function with 1 method)"
      ]
     },
     "metadata": {},
     "output_type": "display_data"
    }
   ],
   "source": [
    "function solveNdisplayKnap(filename)\n",
    "\n",
    "    println(\"\\n Branch-and-Bound for solving a knapsack problem. \\n\\n Solving instance '\" * filename * \"'\\n\")\n",
    "\n",
    "    BestProfit, Bestsol, trParentnodes, trChildnodes, trNamenodes = solveKnapInstance(filename)\n",
    "\n",
    "    println(\"\\n******\\n\\nOptimal value = \", BestProfit, \"\\n\\nOptimal x=\", Bestsol)\n",
    "\n",
    "    println(\"\\n Branch-and-bound tree visualization : start display ...\")\n",
    "    display(graphplot(trParentnodes, trChildnodes, names=trNamenodes, method=:tree))\n",
    "    println(\"... end display. \\n\\n\")\n",
    "\n",
    "end"
   ]
  },
  {
   "cell_type": "code",
   "execution_count": 17,
   "metadata": {},
   "outputs": [
    {
     "data": {
      "image/png": "[encoded data removed]",
      "image/svg+xml": [
       "<?xml version=\"1.0\" encoding=\"utf-8\"?>\n",
       "<svg xmlns=\"http://www.w3.org/2000/svg\" xmlns:xlink=\"http://www.w3.org/1999/xlink\" width=\"600\" height=\"400\" viewBox=\"0 0 2400 1600\">\n",
       "<defs>\n",
       "  <clipPath id=\"clip530\">\n",
       "    <rect x=\"0\" y=\"0\" width=\"2400\" height=\"1600\"/>\n",
       "  </clipPath>\n",
       "</defs>\n",
       "<path clip-path=\"url(#clip530)\" d=\"M0 1600 L2400 1600 L2400 0 L0 0  Z\" fill=\"#ffffff\" fill-rule=\"evenodd\" fill-opacity=\"1\"/>\n",
       "<defs>\n",
       "  <clipPath id=\"clip531\">\n",
       "    <rect x=\"480\" y=\"0\" width=\"1681\" height=\"1600\"/>\n",
       "  </clipPath>\n",
       "</defs>\n",
       "<path clip-path=\"url(#clip530)\" d=\"M447.244 1552.76 L1952.76 1552.76 L1952.76 47.2441 L447.244 47.2441  Z\" fill=\"#ffffff\" fill-rule=\"evenodd\" fill-opacity=\"1\"/>\n",
       "<defs>\n",
       "  <clipPath id=\"clip532\">\n",
       "    <rect x=\"447\" y=\"47\" width=\"1507\" height=\"1507\"/>\n",
       "  </clipPath>\n",
       "</defs>\n",
       "<polyline clip-path=\"url(#clip532)\" style=\"stroke:#000000; stroke-linecap:round; stroke-linejoin:round; stroke-width:4; stroke-opacity:1; fill:none\" points=\"1179.16,262.317 1178.18,281.077 1175.32,299.778 1170.74,318.424 1164.56,337.019 1156.93,355.568 1147.98,374.075 1137.85,392.544 1126.68,410.981 1114.61,429.389 1101.78,447.772 1088.33,466.136 1074.39,484.485 1060.1,502.822 1045.61,521.153 1031.04,539.481 1016.55,557.812 1002.26,576.15 988.326,594.498 974.871,612.862 962.04,631.246 949.972,649.654 938.804,668.09 928.676,686.56 919.726,705.067 912.092,723.615 905.913,742.21 901.328,760.856 898.476,779.557 897.494,798.317 \"/>\n",
       "<polyline clip-path=\"url(#clip532)\" style=\"stroke:#000000; stroke-linecap:round; stroke-linejoin:round; stroke-width:4; stroke-opacity:1; fill:none\" points=\"897.494,798.317 897.598,813.301 897.899,828.595 898.382,844.178 899.034,860.026 899.839,876.116 900.783,892.424 901.851,908.928 903.029,925.606 904.301,942.433 905.655,959.386 907.074,976.444 908.544,993.582 910.05,1010.78 911.579,1028.01 913.115,1045.25 914.643,1062.48 916.15,1079.68 917.62,1096.81 919.039,1113.87 920.392,1130.82 921.665,1147.65 922.843,1164.33 923.911,1180.83 924.855,1197.14 925.66,1213.23 926.311,1229.08 926.795,1244.66 927.096,1259.96 927.199,1274.94 \"/>\n",
       "<polyline clip-path=\"url(#clip532)\" style=\"stroke:#000000; stroke-linecap:round; stroke-linejoin:round; stroke-width:4; stroke-opacity:1; fill:none\" points=\"897.494,798.317 896.675,816.038 894.293,833.801 890.465,851.603 885.306,869.44 878.932,887.31 871.459,905.209 863.002,923.134 853.678,941.082 843.601,959.051 832.888,977.037 821.654,995.036 810.015,1013.05 798.087,1031.06 785.985,1049.09 773.826,1067.11 761.724,1085.13 749.796,1103.15 738.157,1121.16 726.924,1139.16 716.211,1157.15 706.134,1175.12 696.809,1193.06 688.353,1210.99 680.879,1228.89 674.506,1246.76 669.347,1264.6 665.519,1282.4 663.137,1300.16 662.317,1317.88 \"/>\n",
       "<polyline clip-path=\"url(#clip532)\" style=\"stroke:#000000; stroke-linecap:round; stroke-linejoin:round; stroke-width:4; stroke-opacity:1; fill:none\" points=\"1179.16,262.317 1180.1,281.656 1182.83,301.001 1187.21,320.352 1193.13,339.709 1200.43,359.071 1208.99,378.438 1218.68,397.808 1229.37,417.183 1240.92,436.561 1253.19,455.941 1266.07,475.324 1279.4,494.708 1293.07,514.093 1306.94,533.48 1320.87,552.866 1334.74,572.253 1348.41,591.638 1361.75,611.022 1374.62,630.405 1386.9,649.785 1398.45,669.163 1409.13,688.538 1418.82,707.908 1427.39,727.275 1434.69,746.637 1440.6,765.994 1444.99,785.345 1447.72,804.69 1448.66,824.029 \"/>\n",
       "<polyline clip-path=\"url(#clip532)\" style=\"stroke:#000000; stroke-linecap:round; stroke-linejoin:round; stroke-width:4; stroke-opacity:1; fill:none\" points=\"1448.66,824.029 1449.66,837.548 1452.59,850.648 1457.3,863.36 1463.64,875.715 1471.47,887.745 1480.65,899.479 1491.05,910.949 1502.51,922.187 1514.89,933.222 1528.06,944.087 1541.86,954.813 1556.17,965.429 1570.83,975.968 1585.7,986.461 1600.64,996.938 1615.51,1007.43 1630.17,1017.97 1644.48,1028.59 1658.28,1039.31 1671.45,1050.18 1683.83,1061.21 1695.29,1072.45 1705.69,1083.92 1714.87,1095.65 1722.7,1107.68 1729.04,1120.04 1733.75,1132.75 1736.68,1145.85 1737.68,1159.37 \"/>\n",
       "<polyline clip-path=\"url(#clip532)\" style=\"stroke:#000000; stroke-linecap:round; stroke-linejoin:round; stroke-width:4; stroke-opacity:1; fill:none\" points=\"1448.66,824.029 1448.69,840.151 1448.79,856.615 1448.95,873.393 1449.17,890.462 1449.44,907.796 1449.76,925.369 1450.11,943.157 1450.51,961.134 1450.93,979.276 1451.39,997.555 1451.86,1015.95 1452.35,1034.43 1452.86,1052.98 1453.37,1071.56 1453.88,1090.15 1454.39,1108.74 1454.9,1127.28 1455.39,1145.76 1455.86,1164.16 1456.32,1182.44 1456.74,1200.58 1457.13,1218.55 1457.49,1236.34 1457.81,1253.92 1458.08,1271.25 1458.29,1288.32 1458.46,1305.1 1458.56,1321.56 1458.59,1337.68 \"/>\n",
       "<path clip-path=\"url(#clip532)\" d=\"M1201.1 262.317 L1190.13 243.319 L1168.19 243.319 L1157.22 262.317 L1168.19 281.316 L1190.13 281.316 L1201.1 262.317 L1201.1 262.317  Z\" fill=\"#009af9\" fill-rule=\"evenodd\" fill-opacity=\"1\"/>\n",
       "<polyline clip-path=\"url(#clip532)\" style=\"stroke:#000000; stroke-linecap:round; stroke-linejoin:round; stroke-width:4; stroke-opacity:1; fill:none\" points=\"1201.1,262.317 1190.13,243.319 1168.19,243.319 1157.22,262.317 1168.19,281.316 1190.13,281.316 1201.1,262.317 \"/>\n",
       "<path clip-path=\"url(#clip532)\" d=\"M919.432 798.317 L908.463 779.319 L886.525 779.319 L875.557 798.317 L886.525 817.315 L908.463 817.315 L919.432 798.317 L919.432 798.317  Z\" fill=\"#009af9\" fill-rule=\"evenodd\" fill-opacity=\"1\"/>\n",
       "<polyline clip-path=\"url(#clip532)\" style=\"stroke:#000000; stroke-linecap:round; stroke-linejoin:round; stroke-width:4; stroke-opacity:1; fill:none\" points=\"919.432,798.317 908.463,779.319 886.525,779.319 875.557,798.317 886.525,817.315 908.463,817.315 919.432,798.317 \"/>\n",
       "<path clip-path=\"url(#clip532)\" d=\"M949.137 1274.94 L938.168 1255.94 L916.231 1255.94 L905.262 1274.94 L916.231 1293.94 L938.168 1293.94 L949.137 1274.94 L949.137 1274.94  Z\" fill=\"#009af9\" fill-rule=\"evenodd\" fill-opacity=\"1\"/>\n",
       "<polyline clip-path=\"url(#clip532)\" style=\"stroke:#000000; stroke-linecap:round; stroke-linejoin:round; stroke-width:4; stroke-opacity:1; fill:none\" points=\"949.137,1274.94 938.168,1255.94 916.231,1255.94 905.262,1274.94 916.231,1293.94 938.168,1293.94 949.137,1274.94 \"/>\n",
       "<path clip-path=\"url(#clip532)\" d=\"M684.255 1317.88 L673.286 1298.88 L651.348 1298.88 L640.38 1317.88 L651.348 1336.88 L673.286 1336.88 L684.255 1317.88 L684.255 1317.88  Z\" fill=\"#009af9\" fill-rule=\"evenodd\" fill-opacity=\"1\"/>\n",
       "<polyline clip-path=\"url(#clip532)\" style=\"stroke:#000000; stroke-linecap:round; stroke-linejoin:round; stroke-width:4; stroke-opacity:1; fill:none\" points=\"684.255,1317.88 673.286,1298.88 651.348,1298.88 640.38,1317.88 651.348,1336.88 673.286,1336.88 684.255,1317.88 \"/>\n",
       "<path clip-path=\"url(#clip532)\" d=\"M1470.59 824.029 L1459.63 805.03 L1437.69 805.03 L1426.72 824.029 L1437.69 843.027 L1459.63 843.027 L1470.59 824.029 L1470.59 824.029  Z\" fill=\"#009af9\" fill-rule=\"evenodd\" fill-opacity=\"1\"/>\n",
       "<polyline clip-path=\"url(#clip532)\" style=\"stroke:#000000; stroke-linecap:round; stroke-linejoin:round; stroke-width:4; stroke-opacity:1; fill:none\" points=\"1470.59,824.029 1459.63,805.03 1437.69,805.03 1426.72,824.029 1437.69,843.027 1459.63,843.027 1470.59,824.029 \"/>\n",
       "<path clip-path=\"url(#clip532)\" d=\"M1759.62 1159.37 L1748.65 1140.37 L1726.71 1140.37 L1715.75 1159.37 L1726.71 1178.37 L1748.65 1178.37 L1759.62 1159.37 L1759.62 1159.37  Z\" fill=\"#009af9\" fill-rule=\"evenodd\" fill-opacity=\"1\"/>\n",
       "<polyline clip-path=\"url(#clip532)\" style=\"stroke:#000000; stroke-linecap:round; stroke-linejoin:round; stroke-width:4; stroke-opacity:1; fill:none\" points=\"1759.62,1159.37 1748.65,1140.37 1726.71,1140.37 1715.75,1159.37 1726.71,1178.37 1748.65,1178.37 1759.62,1159.37 \"/>\n",
       "<path clip-path=\"url(#clip532)\" d=\"M1480.53 1337.68 L1469.56 1318.68 L1447.62 1318.68 L1436.65 1337.68 L1447.62 1356.68 L1469.56 1356.68 L1480.53 1337.68 L1480.53 1337.68  Z\" fill=\"#009af9\" fill-rule=\"evenodd\" fill-opacity=\"1\"/>\n",
       "<polyline clip-path=\"url(#clip532)\" style=\"stroke:#000000; stroke-linecap:round; stroke-linejoin:round; stroke-width:4; stroke-opacity:1; fill:none\" points=\"1480.53,1337.68 1469.56,1318.68 1447.62,1318.68 1436.65,1337.68 1447.62,1356.68 1469.56,1356.68 1480.53,1337.68 \"/>\n",
       "<path clip-path=\"url(#clip532)\" d=\"M1179.16 262.717 L1178.81 262.517 L1178.81 262.117 L1179.16 261.917 L1179.5 262.117 L1179.5 262.517 Z\" fill=\"#009af9\" fill-rule=\"evenodd\" fill-opacity=\"1\" stroke=\"#000000\" stroke-opacity=\"1\" stroke-width=\"3.2\"/>\n",
       "<path clip-path=\"url(#clip532)\" d=\"M897.494 798.717 L897.148 798.517 L897.148 798.117 L897.494 797.917 L897.841 798.117 L897.841 798.517 Z\" fill=\"#009af9\" fill-rule=\"evenodd\" fill-opacity=\"1\" stroke=\"#000000\" stroke-opacity=\"1\" stroke-width=\"3.2\"/>\n",
       "<path clip-path=\"url(#clip532)\" d=\"M927.199 1275.34 L926.853 1275.14 L926.853 1274.74 L927.199 1274.54 L927.546 1274.74 L927.546 1275.14 Z\" fill=\"#009af9\" fill-rule=\"evenodd\" fill-opacity=\"1\" stroke=\"#000000\" stroke-opacity=\"1\" stroke-width=\"3.2\"/>\n",
       "<path clip-path=\"url(#clip532)\" d=\"M662.317 1318.28 L661.971 1318.08 L661.971 1317.68 L662.317 1317.48 L662.664 1317.68 L662.664 1318.08 Z\" fill=\"#009af9\" fill-rule=\"evenodd\" fill-opacity=\"1\" stroke=\"#000000\" stroke-opacity=\"1\" stroke-width=\"3.2\"/>\n",
       "<path clip-path=\"url(#clip532)\" d=\"M1448.66 824.429 L1448.31 824.229 L1448.31 823.829 L1448.66 823.629 L1449 823.829 L1449 824.229 Z\" fill=\"#009af9\" fill-rule=\"evenodd\" fill-opacity=\"1\" stroke=\"#000000\" stroke-opacity=\"1\" stroke-width=\"3.2\"/>\n",
       "<path clip-path=\"url(#clip532)\" d=\"M1737.68 1159.77 L1737.34 1159.57 L1737.34 1159.17 L1737.68 1158.97 L1738.03 1159.17 L1738.03 1159.57 Z\" fill=\"#009af9\" fill-rule=\"evenodd\" fill-opacity=\"1\" stroke=\"#000000\" stroke-opacity=\"1\" stroke-width=\"3.2\"/>\n",
       "<path clip-path=\"url(#clip532)\" d=\"M1458.59 1338.08 L1458.25 1337.88 L1458.25 1337.48 L1458.59 1337.28 L1458.94 1337.48 L1458.94 1337.88 Z\" fill=\"#009af9\" fill-rule=\"evenodd\" fill-opacity=\"1\" stroke=\"#000000\" stroke-opacity=\"1\" stroke-width=\"3.2\"/>\n",
       "<path clip-path=\"url(#clip530)\" d=\"M1170.74 273.994 L1177.43 273.994 L1177.43 250.924 L1170.15 252.382 L1170.15 248.656 L1177.39 247.197 L1181.48 247.197 L1181.48 273.994 L1188.16 273.994 L1188.16 277.437 L1170.74 277.437 L1170.74 273.994 Z\" fill=\"#000000\" fill-rule=\"nonzero\" fill-opacity=\"1\" /><path clip-path=\"url(#clip530)\" d=\"M892.815 809.994 L907.095 809.994 L907.095 813.437 L887.894 813.437 L887.894 809.994 Q890.223 807.584 894.233 803.533 Q898.264 799.461 899.297 798.287 Q901.262 796.079 902.031 794.56 Q902.821 793.021 902.821 791.542 Q902.821 789.132 901.12 787.613 Q899.439 786.093 896.725 786.093 Q894.8 786.093 892.653 786.762 Q890.527 787.43 888.096 788.787 L888.096 784.655 Q890.567 783.663 892.714 783.157 Q894.861 782.65 896.643 782.65 Q901.343 782.65 904.138 785 Q906.933 787.349 906.933 791.279 Q906.933 793.142 906.224 794.823 Q905.535 796.484 903.692 798.753 Q903.186 799.34 900.472 802.155 Q897.757 804.95 892.815 809.994 Z\" fill=\"#000000\" fill-rule=\"nonzero\" fill-opacity=\"1\" /><path clip-path=\"url(#clip530)\" d=\"M930.916 1273.76 Q933.853 1274.38 935.494 1276.37 Q937.154 1278.35 937.154 1281.27 Q937.154 1285.75 934.076 1288.2 Q930.997 1290.65 925.326 1290.65 Q923.422 1290.65 921.396 1290.26 Q919.391 1289.9 917.244 1289.15 L917.244 1285.2 Q918.946 1286.19 920.971 1286.7 Q922.997 1287.2 925.204 1287.2 Q929.053 1287.2 931.058 1285.68 Q933.083 1284.17 933.083 1281.27 Q933.083 1278.6 931.2 1277.1 Q929.336 1275.58 925.994 1275.58 L922.47 1275.58 L922.47 1272.22 L926.156 1272.22 Q929.174 1272.22 930.774 1271.02 Q932.374 1269.81 932.374 1267.54 Q932.374 1265.21 930.713 1263.97 Q929.073 1262.72 925.994 1262.72 Q924.313 1262.72 922.389 1263.08 Q920.465 1263.45 918.156 1264.22 L918.156 1260.57 Q920.485 1259.92 922.51 1259.6 Q924.556 1259.27 926.359 1259.27 Q931.017 1259.27 933.731 1261.4 Q936.446 1263.51 936.446 1267.11 Q936.446 1269.62 935.007 1271.36 Q933.569 1273.09 930.916 1273.76 Z\" fill=\"#000000\" fill-rule=\"nonzero\" fill-opacity=\"1\" /><path clip-path=\"url(#clip530)\" d=\"M664.95 1306.33 L654.62 1322.47 L664.95 1322.47 L664.95 1306.33 M663.877 1302.76 L669.021 1302.76 L669.021 1322.47 L673.336 1322.47 L673.336 1325.87 L669.021 1325.87 L669.021 1333 L664.95 1333 L664.95 1325.87 L651.299 1325.87 L651.299 1321.92 L663.877 1302.76 Z\" fill=\"#000000\" fill-rule=\"nonzero\" fill-opacity=\"1\" /><path clip-path=\"url(#clip530)\" d=\"M1440.15 808.909 L1456.21 808.909 L1456.21 812.352 L1443.9 812.352 L1443.9 819.765 Q1444.79 819.461 1445.68 819.32 Q1446.57 819.158 1447.46 819.158 Q1452.53 819.158 1455.48 821.932 Q1458.44 824.707 1458.44 829.447 Q1458.44 834.328 1455.4 837.042 Q1452.36 839.736 1446.83 839.736 Q1444.93 839.736 1442.95 839.412 Q1440.98 839.088 1438.87 838.44 L1438.87 834.328 Q1440.7 835.321 1442.64 835.807 Q1444.59 836.293 1446.75 836.293 Q1450.26 836.293 1452.3 834.45 Q1454.35 832.607 1454.35 829.447 Q1454.35 826.287 1452.3 824.444 Q1450.26 822.601 1446.75 822.601 Q1445.11 822.601 1443.47 822.965 Q1441.85 823.33 1440.15 824.1 L1440.15 808.909 Z\" fill=\"#000000\" fill-rule=\"nonzero\" fill-opacity=\"1\" /><path clip-path=\"url(#clip530)\" d=\"M1738.04 1157.74 Q1735.28 1157.74 1733.66 1159.62 Q1732.06 1161.51 1732.06 1164.79 Q1732.06 1168.05 1733.66 1169.95 Q1735.28 1171.84 1738.04 1171.84 Q1740.79 1171.84 1742.39 1169.95 Q1744.01 1168.05 1744.01 1164.79 Q1744.01 1161.51 1742.39 1159.62 Q1740.79 1157.74 1738.04 1157.74 M1746.16 1144.92 L1746.16 1148.64 Q1744.62 1147.92 1743.04 1147.53 Q1741.48 1147.15 1739.94 1147.15 Q1735.89 1147.15 1733.74 1149.88 Q1731.62 1152.61 1731.31 1158.14 Q1732.51 1156.38 1734.31 1155.45 Q1736.11 1154.5 1738.28 1154.5 Q1742.84 1154.5 1745.47 1157.27 Q1748.12 1160.03 1748.12 1164.79 Q1748.12 1169.45 1745.37 1172.26 Q1742.61 1175.08 1738.04 1175.08 Q1732.79 1175.08 1730.02 1171.07 Q1727.24 1167.04 1727.24 1159.4 Q1727.24 1152.23 1730.64 1147.98 Q1734.05 1143.7 1739.78 1143.7 Q1741.32 1143.7 1742.88 1144.01 Q1744.46 1144.31 1746.16 1144.92 Z\" fill=\"#000000\" fill-rule=\"nonzero\" fill-opacity=\"1\" /><path clip-path=\"url(#clip530)\" d=\"M1448.87 1322.56 L1468.31 1322.56 L1468.31 1324.3 L1457.34 1352.8 L1453.06 1352.8 L1463.39 1326.01 L1448.87 1326.01 L1448.87 1322.56 Z\" fill=\"#000000\" fill-rule=\"nonzero\" fill-opacity=\"1\" /></svg>\n"
      ],
      "text/html": [
       "<?xml version=\"1.0\" encoding=\"utf-8\"?>\n",
       "<svg xmlns=\"http://www.w3.org/2000/svg\" xmlns:xlink=\"http://www.w3.org/1999/xlink\" width=\"600\" height=\"400\" viewBox=\"0 0 2400 1600\">\n",
       "<defs>\n",
       "  <clipPath id=\"clip560\">\n",
       "    <rect x=\"0\" y=\"0\" width=\"2400\" height=\"1600\"/>\n",
       "  </clipPath>\n",
       "</defs>\n",
       "<path clip-path=\"url(#clip560)\" d=\"M0 1600 L2400 1600 L2400 0 L0 0  Z\" fill=\"#ffffff\" fill-rule=\"evenodd\" fill-opacity=\"1\"/>\n",
       "<defs>\n",
       "  <clipPath id=\"clip561\">\n",
       "    <rect x=\"480\" y=\"0\" width=\"1681\" height=\"1600\"/>\n",
       "  </clipPath>\n",
       "</defs>\n",
       "<path clip-path=\"url(#clip560)\" d=\"M447.244 1552.76 L1952.76 1552.76 L1952.76 47.2441 L447.244 47.2441  Z\" fill=\"#ffffff\" fill-rule=\"evenodd\" fill-opacity=\"1\"/>\n",
       "<defs>\n",
       "  <clipPath id=\"clip562\">\n",
       "    <rect x=\"447\" y=\"47\" width=\"1507\" height=\"1507\"/>\n",
       "  </clipPath>\n",
       "</defs>\n",
       "<polyline clip-path=\"url(#clip562)\" style=\"stroke:#000000; stroke-linecap:round; stroke-linejoin:round; stroke-width:4; stroke-opacity:1; fill:none\" points=\"1179.16,262.317 1178.18,281.077 1175.32,299.778 1170.74,318.424 1164.56,337.019 1156.93,355.568 1147.98,374.075 1137.85,392.544 1126.68,410.981 1114.61,429.389 1101.78,447.772 1088.33,466.136 1074.39,484.485 1060.1,502.822 1045.61,521.153 1031.04,539.481 1016.55,557.812 1002.26,576.15 988.326,594.498 974.871,612.862 962.04,631.246 949.972,649.654 938.804,668.09 928.676,686.56 919.726,705.067 912.092,723.615 905.913,742.21 901.328,760.856 898.476,779.557 897.494,798.317 \"/>\n",
       "<polyline clip-path=\"url(#clip562)\" style=\"stroke:#000000; stroke-linecap:round; stroke-linejoin:round; stroke-width:4; stroke-opacity:1; fill:none\" points=\"897.494,798.317 897.598,813.301 897.899,828.595 898.382,844.178 899.034,860.026 899.839,876.116 900.783,892.424 901.851,908.928 903.029,925.606 904.301,942.433 905.655,959.386 907.074,976.444 908.544,993.582 910.05,1010.78 911.579,1028.01 913.115,1045.25 914.643,1062.48 916.15,1079.68 917.62,1096.81 919.039,1113.87 920.392,1130.82 921.665,1147.65 922.843,1164.33 923.911,1180.83 924.855,1197.14 925.66,1213.23 926.311,1229.08 926.795,1244.66 927.096,1259.96 927.199,1274.94 \"/>\n",
       "<polyline clip-path=\"url(#clip562)\" style=\"stroke:#000000; stroke-linecap:round; stroke-linejoin:round; stroke-width:4; stroke-opacity:1; fill:none\" points=\"897.494,798.317 896.675,816.038 894.293,833.801 890.465,851.603 885.306,869.44 878.932,887.31 871.459,905.209 863.002,923.134 853.678,941.082 843.601,959.051 832.888,977.037 821.654,995.036 810.015,1013.05 798.087,1031.06 785.985,1049.09 773.826,1067.11 761.724,1085.13 749.796,1103.15 738.157,1121.16 726.924,1139.16 716.211,1157.15 706.134,1175.12 696.809,1193.06 688.353,1210.99 680.879,1228.89 674.506,1246.76 669.347,1264.6 665.519,1282.4 663.137,1300.16 662.317,1317.88 \"/>\n",
       "<polyline clip-path=\"url(#clip562)\" style=\"stroke:#000000; stroke-linecap:round; stroke-linejoin:round; stroke-width:4; stroke-opacity:1; fill:none\" points=\"1179.16,262.317 1180.1,281.656 1182.83,301.001 1187.21,320.352 1193.13,339.709 1200.43,359.071 1208.99,378.438 1218.68,397.808 1229.37,417.183 1240.92,436.561 1253.19,455.941 1266.07,475.324 1279.4,494.708 1293.07,514.093 1306.94,533.48 1320.87,552.866 1334.74,572.253 1348.41,591.638 1361.75,611.022 1374.62,630.405 1386.9,649.785 1398.45,669.163 1409.13,688.538 1418.82,707.908 1427.39,727.275 1434.69,746.637 1440.6,765.994 1444.99,785.345 1447.72,804.69 1448.66,824.029 \"/>\n",
       "<polyline clip-path=\"url(#clip562)\" style=\"stroke:#000000; stroke-linecap:round; stroke-linejoin:round; stroke-width:4; stroke-opacity:1; fill:none\" points=\"1448.66,824.029 1449.66,837.548 1452.59,850.648 1457.3,863.36 1463.64,875.715 1471.47,887.745 1480.65,899.479 1491.05,910.949 1502.51,922.187 1514.89,933.222 1528.06,944.087 1541.86,954.813 1556.17,965.429 1570.83,975.968 1585.7,986.461 1600.64,996.938 1615.51,1007.43 1630.17,1017.97 1644.48,1028.59 1658.28,1039.31 1671.45,1050.18 1683.83,1061.21 1695.29,1072.45 1705.69,1083.92 1714.87,1095.65 1722.7,1107.68 1729.04,1120.04 1733.75,1132.75 1736.68,1145.85 1737.68,1159.37 \"/>\n",
       "<polyline clip-path=\"url(#clip562)\" style=\"stroke:#000000; stroke-linecap:round; stroke-linejoin:round; stroke-width:4; stroke-opacity:1; fill:none\" points=\"1448.66,824.029 1448.69,840.151 1448.79,856.615 1448.95,873.393 1449.17,890.462 1449.44,907.796 1449.76,925.369 1450.11,943.157 1450.51,961.134 1450.93,979.276 1451.39,997.555 1451.86,1015.95 1452.35,1034.43 1452.86,1052.98 1453.37,1071.56 1453.88,1090.15 1454.39,1108.74 1454.9,1127.28 1455.39,1145.76 1455.86,1164.16 1456.32,1182.44 1456.74,1200.58 1457.13,1218.55 1457.49,1236.34 1457.81,1253.92 1458.08,1271.25 1458.29,1288.32 1458.46,1305.1 1458.56,1321.56 1458.59,1337.68 \"/>\n",
       "<path clip-path=\"url(#clip562)\" d=\"M1201.1 262.317 L1190.13 243.319 L1168.19 243.319 L1157.22 262.317 L1168.19 281.316 L1190.13 281.316 L1201.1 262.317 L1201.1 262.317  Z\" fill=\"#009af9\" fill-rule=\"evenodd\" fill-opacity=\"1\"/>\n",
       "<polyline clip-path=\"url(#clip562)\" style=\"stroke:#000000; stroke-linecap:round; stroke-linejoin:round; stroke-width:4; stroke-opacity:1; fill:none\" points=\"1201.1,262.317 1190.13,243.319 1168.19,243.319 1157.22,262.317 1168.19,281.316 1190.13,281.316 1201.1,262.317 \"/>\n",
       "<path clip-path=\"url(#clip562)\" d=\"M919.432 798.317 L908.463 779.319 L886.525 779.319 L875.557 798.317 L886.525 817.315 L908.463 817.315 L919.432 798.317 L919.432 798.317  Z\" fill=\"#009af9\" fill-rule=\"evenodd\" fill-opacity=\"1\"/>\n",
       "<polyline clip-path=\"url(#clip562)\" style=\"stroke:#000000; stroke-linecap:round; stroke-linejoin:round; stroke-width:4; stroke-opacity:1; fill:none\" points=\"919.432,798.317 908.463,779.319 886.525,779.319 875.557,798.317 886.525,817.315 908.463,817.315 919.432,798.317 \"/>\n",
       "<path clip-path=\"url(#clip562)\" d=\"M949.137 1274.94 L938.168 1255.94 L916.231 1255.94 L905.262 1274.94 L916.231 1293.94 L938.168 1293.94 L949.137 1274.94 L949.137 1274.94  Z\" fill=\"#009af9\" fill-rule=\"evenodd\" fill-opacity=\"1\"/>\n",
       "<polyline clip-path=\"url(#clip562)\" style=\"stroke:#000000; stroke-linecap:round; stroke-linejoin:round; stroke-width:4; stroke-opacity:1; fill:none\" points=\"949.137,1274.94 938.168,1255.94 916.231,1255.94 905.262,1274.94 916.231,1293.94 938.168,1293.94 949.137,1274.94 \"/>\n",
       "<path clip-path=\"url(#clip562)\" d=\"M684.255 1317.88 L673.286 1298.88 L651.348 1298.88 L640.38 1317.88 L651.348 1336.88 L673.286 1336.88 L684.255 1317.88 L684.255 1317.88  Z\" fill=\"#009af9\" fill-rule=\"evenodd\" fill-opacity=\"1\"/>\n",
       "<polyline clip-path=\"url(#clip562)\" style=\"stroke:#000000; stroke-linecap:round; stroke-linejoin:round; stroke-width:4; stroke-opacity:1; fill:none\" points=\"684.255,1317.88 673.286,1298.88 651.348,1298.88 640.38,1317.88 651.348,1336.88 673.286,1336.88 684.255,1317.88 \"/>\n",
       "<path clip-path=\"url(#clip562)\" d=\"M1470.59 824.029 L1459.63 805.03 L1437.69 805.03 L1426.72 824.029 L1437.69 843.027 L1459.63 843.027 L1470.59 824.029 L1470.59 824.029  Z\" fill=\"#009af9\" fill-rule=\"evenodd\" fill-opacity=\"1\"/>\n",
       "<polyline clip-path=\"url(#clip562)\" style=\"stroke:#000000; stroke-linecap:round; stroke-linejoin:round; stroke-width:4; stroke-opacity:1; fill:none\" points=\"1470.59,824.029 1459.63,805.03 1437.69,805.03 1426.72,824.029 1437.69,843.027 1459.63,843.027 1470.59,824.029 \"/>\n",
       "<path clip-path=\"url(#clip562)\" d=\"M1759.62 1159.37 L1748.65 1140.37 L1726.71 1140.37 L1715.75 1159.37 L1726.71 1178.37 L1748.65 1178.37 L1759.62 1159.37 L1759.62 1159.37  Z\" fill=\"#009af9\" fill-rule=\"evenodd\" fill-opacity=\"1\"/>\n",
       "<polyline clip-path=\"url(#clip562)\" style=\"stroke:#000000; stroke-linecap:round; stroke-linejoin:round; stroke-width:4; stroke-opacity:1; fill:none\" points=\"1759.62,1159.37 1748.65,1140.37 1726.71,1140.37 1715.75,1159.37 1726.71,1178.37 1748.65,1178.37 1759.62,1159.37 \"/>\n",
       "<path clip-path=\"url(#clip562)\" d=\"M1480.53 1337.68 L1469.56 1318.68 L1447.62 1318.68 L1436.65 1337.68 L1447.62 1356.68 L1469.56 1356.68 L1480.53 1337.68 L1480.53 1337.68  Z\" fill=\"#009af9\" fill-rule=\"evenodd\" fill-opacity=\"1\"/>\n",
       "<polyline clip-path=\"url(#clip562)\" style=\"stroke:#000000; stroke-linecap:round; stroke-linejoin:round; stroke-width:4; stroke-opacity:1; fill:none\" points=\"1480.53,1337.68 1469.56,1318.68 1447.62,1318.68 1436.65,1337.68 1447.62,1356.68 1469.56,1356.68 1480.53,1337.68 \"/>\n",
       "<path clip-path=\"url(#clip562)\" d=\"M1179.16 262.717 L1178.81 262.517 L1178.81 262.117 L1179.16 261.917 L1179.5 262.117 L1179.5 262.517 Z\" fill=\"#009af9\" fill-rule=\"evenodd\" fill-opacity=\"1\" stroke=\"#000000\" stroke-opacity=\"1\" stroke-width=\"3.2\"/>\n",
       "<path clip-path=\"url(#clip562)\" d=\"M897.494 798.717 L897.148 798.517 L897.148 798.117 L897.494 797.917 L897.841 798.117 L897.841 798.517 Z\" fill=\"#009af9\" fill-rule=\"evenodd\" fill-opacity=\"1\" stroke=\"#000000\" stroke-opacity=\"1\" stroke-width=\"3.2\"/>\n",
       "<path clip-path=\"url(#clip562)\" d=\"M927.199 1275.34 L926.853 1275.14 L926.853 1274.74 L927.199 1274.54 L927.546 1274.74 L927.546 1275.14 Z\" fill=\"#009af9\" fill-rule=\"evenodd\" fill-opacity=\"1\" stroke=\"#000000\" stroke-opacity=\"1\" stroke-width=\"3.2\"/>\n",
       "<path clip-path=\"url(#clip562)\" d=\"M662.317 1318.28 L661.971 1318.08 L661.971 1317.68 L662.317 1317.48 L662.664 1317.68 L662.664 1318.08 Z\" fill=\"#009af9\" fill-rule=\"evenodd\" fill-opacity=\"1\" stroke=\"#000000\" stroke-opacity=\"1\" stroke-width=\"3.2\"/>\n",
       "<path clip-path=\"url(#clip562)\" d=\"M1448.66 824.429 L1448.31 824.229 L1448.31 823.829 L1448.66 823.629 L1449 823.829 L1449 824.229 Z\" fill=\"#009af9\" fill-rule=\"evenodd\" fill-opacity=\"1\" stroke=\"#000000\" stroke-opacity=\"1\" stroke-width=\"3.2\"/>\n",
       "<path clip-path=\"url(#clip562)\" d=\"M1737.68 1159.77 L1737.34 1159.57 L1737.34 1159.17 L1737.68 1158.97 L1738.03 1159.17 L1738.03 1159.57 Z\" fill=\"#009af9\" fill-rule=\"evenodd\" fill-opacity=\"1\" stroke=\"#000000\" stroke-opacity=\"1\" stroke-width=\"3.2\"/>\n",
       "<path clip-path=\"url(#clip562)\" d=\"M1458.59 1338.08 L1458.25 1337.88 L1458.25 1337.48 L1458.59 1337.28 L1458.94 1337.48 L1458.94 1337.88 Z\" fill=\"#009af9\" fill-rule=\"evenodd\" fill-opacity=\"1\" stroke=\"#000000\" stroke-opacity=\"1\" stroke-width=\"3.2\"/>\n",
       "<path clip-path=\"url(#clip560)\" d=\"M1170.74 273.994 L1177.43 273.994 L1177.43 250.924 L1170.15 252.382 L1170.15 248.656 L1177.39 247.197 L1181.48 247.197 L1181.48 273.994 L1188.16 273.994 L1188.16 277.437 L1170.74 277.437 L1170.74 273.994 Z\" fill=\"#000000\" fill-rule=\"nonzero\" fill-opacity=\"1\" /><path clip-path=\"url(#clip560)\" d=\"M892.815 809.994 L907.095 809.994 L907.095 813.437 L887.894 813.437 L887.894 809.994 Q890.223 807.584 894.233 803.533 Q898.264 799.461 899.297 798.287 Q901.262 796.079 902.031 794.56 Q902.821 793.021 902.821 791.542 Q902.821 789.132 901.12 787.613 Q899.439 786.093 896.725 786.093 Q894.8 786.093 892.653 786.762 Q890.527 787.43 888.096 788.787 L888.096 784.655 Q890.567 783.663 892.714 783.157 Q894.861 782.65 896.643 782.65 Q901.343 782.65 904.138 785 Q906.933 787.349 906.933 791.279 Q906.933 793.142 906.224 794.823 Q905.535 796.484 903.692 798.753 Q903.186 799.34 900.472 802.155 Q897.757 804.95 892.815 809.994 Z\" fill=\"#000000\" fill-rule=\"nonzero\" fill-opacity=\"1\" /><path clip-path=\"url(#clip560)\" d=\"M930.916 1273.76 Q933.853 1274.38 935.494 1276.37 Q937.154 1278.35 937.154 1281.27 Q937.154 1285.75 934.076 1288.2 Q930.997 1290.65 925.326 1290.65 Q923.422 1290.65 921.396 1290.26 Q919.391 1289.9 917.244 1289.15 L917.244 1285.2 Q918.946 1286.19 920.971 1286.7 Q922.997 1287.2 925.204 1287.2 Q929.053 1287.2 931.058 1285.68 Q933.083 1284.17 933.083 1281.27 Q933.083 1278.6 931.2 1277.1 Q929.336 1275.58 925.994 1275.58 L922.47 1275.58 L922.47 1272.22 L926.156 1272.22 Q929.174 1272.22 930.774 1271.02 Q932.374 1269.81 932.374 1267.54 Q932.374 1265.21 930.713 1263.97 Q929.073 1262.72 925.994 1262.72 Q924.313 1262.72 922.389 1263.08 Q920.465 1263.45 918.156 1264.22 L918.156 1260.57 Q920.485 1259.92 922.51 1259.6 Q924.556 1259.27 926.359 1259.27 Q931.017 1259.27 933.731 1261.4 Q936.446 1263.51 936.446 1267.11 Q936.446 1269.62 935.007 1271.36 Q933.569 1273.09 930.916 1273.76 Z\" fill=\"#000000\" fill-rule=\"nonzero\" fill-opacity=\"1\" /><path clip-path=\"url(#clip560)\" d=\"M664.95 1306.33 L654.62 1322.47 L664.95 1322.47 L664.95 1306.33 M663.877 1302.76 L669.021 1302.76 L669.021 1322.47 L673.336 1322.47 L673.336 1325.87 L669.021 1325.87 L669.021 1333 L664.95 1333 L664.95 1325.87 L651.299 1325.87 L651.299 1321.92 L663.877 1302.76 Z\" fill=\"#000000\" fill-rule=\"nonzero\" fill-opacity=\"1\" /><path clip-path=\"url(#clip560)\" d=\"M1440.15 808.909 L1456.21 808.909 L1456.21 812.352 L1443.9 812.352 L1443.9 819.765 Q1444.79 819.461 1445.68 819.32 Q1446.57 819.158 1447.46 819.158 Q1452.53 819.158 1455.48 821.932 Q1458.44 824.707 1458.44 829.447 Q1458.44 834.328 1455.4 837.042 Q1452.36 839.736 1446.83 839.736 Q1444.93 839.736 1442.95 839.412 Q1440.98 839.088 1438.87 838.44 L1438.87 834.328 Q1440.7 835.321 1442.64 835.807 Q1444.59 836.293 1446.75 836.293 Q1450.26 836.293 1452.3 834.45 Q1454.35 832.607 1454.35 829.447 Q1454.35 826.287 1452.3 824.444 Q1450.26 822.601 1446.75 822.601 Q1445.11 822.601 1443.47 822.965 Q1441.85 823.33 1440.15 824.1 L1440.15 808.909 Z\" fill=\"#000000\" fill-rule=\"nonzero\" fill-opacity=\"1\" /><path clip-path=\"url(#clip560)\" d=\"M1738.04 1157.74 Q1735.28 1157.74 1733.66 1159.62 Q1732.06 1161.51 1732.06 1164.79 Q1732.06 1168.05 1733.66 1169.95 Q1735.28 1171.84 1738.04 1171.84 Q1740.79 1171.84 1742.39 1169.95 Q1744.01 1168.05 1744.01 1164.79 Q1744.01 1161.51 1742.39 1159.62 Q1740.79 1157.74 1738.04 1157.74 M1746.16 1144.92 L1746.16 1148.64 Q1744.62 1147.92 1743.04 1147.53 Q1741.48 1147.15 1739.94 1147.15 Q1735.89 1147.15 1733.74 1149.88 Q1731.62 1152.61 1731.31 1158.14 Q1732.51 1156.38 1734.31 1155.45 Q1736.11 1154.5 1738.28 1154.5 Q1742.84 1154.5 1745.47 1157.27 Q1748.12 1160.03 1748.12 1164.79 Q1748.12 1169.45 1745.37 1172.26 Q1742.61 1175.08 1738.04 1175.08 Q1732.79 1175.08 1730.02 1171.07 Q1727.24 1167.04 1727.24 1159.4 Q1727.24 1152.23 1730.64 1147.98 Q1734.05 1143.7 1739.78 1143.7 Q1741.32 1143.7 1742.88 1144.01 Q1744.46 1144.31 1746.16 1144.92 Z\" fill=\"#000000\" fill-rule=\"nonzero\" fill-opacity=\"1\" /><path clip-path=\"url(#clip560)\" d=\"M1448.87 1322.56 L1468.31 1322.56 L1468.31 1324.3 L1457.34 1352.8 L1453.06 1352.8 L1463.39 1326.01 L1448.87 1326.01 L1448.87 1322.56 Z\" fill=\"#000000\" fill-rule=\"nonzero\" fill-opacity=\"1\" /></svg>\n"
      ]
     },
     "metadata": {},
     "output_type": "display_data"
    },
    {
     "name": "stdout",
     "output_type": "stream",
     "text": [
      "\n",
      " Branch-and-Bound for solving a knapsack problem. \n",
      "\n",
      " Solving instance 'InstancesKnapSack/test.opb.txt'\n",
      "\n",
      "\n",
      "Node number 0: \n",
      "---------------\n",
      "\n",
      "Remaining capacity: 10\n",
      "Compute upper bound: start ... 100.0 with [0.0, 2.5, 0.0, 0.0]... end\n",
      "\n",
      "Previous Solution memorized Float64[] with bestprofit -1.0\n",
      "\n",
      "non sondable\n",
      "\n",
      "branch on object 1\n",
      "\n",
      "\n",
      "Node number 1: \n",
      "---------------\n",
      "\n",
      "Remaining capacity: 3\n",
      "Compute upper bound: start ... 72.0 with [0.0, 0.75, 0.0, 0.0]... end\n",
      "\n",
      "Previous Solution memorized Float64[] with bestprofit -1.0\n",
      "\n",
      "non sondable\n",
      "\n",
      "branch on object 2\n",
      "\n",
      "\n",
      "Node number 2: \n",
      "---------------\n",
      "\n",
      "Remaining capacity: -1\n",
      "Compute upper bound: start ... 77.0 with [0.0, 0.0, 0.0, -0.2]... end\n",
      "\n",
      "Previous Solution memorized Float64[] with bestprofit -1.0\n",
      "\n",
      "TA\n",
      "\n",
      "Node number 3: \n",
      "---------------\n",
      "\n",
      "Remaining capacity: -1\n",
      "Compute upper bound: start ... 77.0 with [0.0, 0.0, 0.0, -0.2]... end\n",
      "\n",
      "Previous Solution memorized Float64[] with bestprofit -1.0\n",
      "\n",
      "TA\n",
      "\n",
      "Node number 4: \n",
      "---------------\n",
      "\n",
      "Remaining capacity: 3\n",
      "Compute upper bound: start ... 72.0 with [0.0, 0.75, 0.0, 0.0]... end\n",
      "\n",
      "Previous Solution memorized Float64[] with bestprofit -1.0\n",
      "\n",
      "non sondable\n",
      "\n",
      "branch on object 2\n",
      "\n",
      "\n",
      "Node number 5: \n",
      "---------------\n",
      "\n",
      "Remaining capacity: -1\n",
      "Compute upper bound: start ... 77.0 with [0.0, 0.0, 0.0, -0.2]... end\n",
      "\n",
      "Previous Solution memorized Float64[] with bestprofit -1.0\n",
      "\n",
      "TA\n",
      "\n",
      "Node number 6: \n",
      "---------------\n",
      "\n",
      "Remaining capacity: -1\n",
      "Compute upper bound: start ... 77.0 with [0.0, 0.0, 0.0, -0.2]... end\n",
      "\n",
      "Previous Solution memorized Float64[] with bestprofit -1.0\n",
      "\n",
      "TA\n",
      "\n",
      "FINISHED\n",
      "\n",
      "******\n",
      "\n",
      "Optimal value = -1.0\n",
      "\n",
      "Optimal x=Float64[]\n",
      "\n",
      "******\n",
      "\n",
      "Optimal value = -1.0\n",
      "\n",
      "Optimal x=Float64[]\n",
      "\n",
      " Branch-and-bound tree visualization : start display ...\n"
     ]
    },
    {
     "name": "stdout",
     "output_type": "stream",
     "text": [
      "... end display. \n",
      "\n",
      "\n",
      "press enter to exit ! \n"
     ]
    },
    {
     "ename": "UndefVarError",
     "evalue": "UndefVarError: `execute_msg` not defined",
     "output_type": "error",
     "traceback": [
      "UndefVarError: `execute_msg` not defined\n",
      "\n",
      "Stacktrace:\n",
      " [1] readprompt(prompt::String; password::Bool)\n",
      "   @ VSCodeServer.IJuliaCore ~/.vscode/extensions/julialang.language-julia-1.65.2/scripts/packages/IJuliaCore/src/stdio.jl:190\n",
      " [2] readprompt\n",
      "   @ ~/.vscode/extensions/julialang.language-julia-1.65.2/scripts/packages/IJuliaCore/src/stdio.jl:188 [inlined]\n",
      " [3] readline(io::VSCodeServer.IJuliaCore.IJuliaStdio{Base.PipeEndpoint, typeof(VSCodeServer.io_send_callback)})\n",
      "   @ VSCodeServer.IJuliaCore ~/.vscode/extensions/julialang.language-julia-1.65.2/scripts/packages/IJuliaCore/src/stdio.jl:232\n",
      " [4] readline()\n",
      "   @ Base ./io.jl:547\n",
      " [5] top-level scope\n",
      "   @ ~/Documents/RO/TP-RO/TP02/NotebookTP2.ipynb:6"
     ]
    }
   ],
   "source": [
    "INSTANCE = \"InstancesKnapSack/test.opb.txt\"\n",
    "\n",
    "solveNdisplayKnap(INSTANCE)\n",
    "\n",
    "println(\"press enter to exit ! \")\n",
    "readline()"
   ]
  },
  {
   "cell_type": "markdown",
   "metadata": {},
   "source": [
    "## Questions préliminaires\n",
    "\n",
    "### Question 1.\n",
    "La règle de séparation choisie est la règle lexicographique, c'est-à-dire que l'on branche sur le premier objet non-fixé en partant de l'objet 1.\n",
    "\n",
    "### Question 2.\n",
    "On trie d'abord  les objets par ratio décroissant et on sélectionne en entier les objets disponible de plus grand ratio pour lesquels la capacité du sac n'est pas dépassée. Dès qu'un objet ne peut plus rentrer entièrement, on n'en prend qu'une fraction permettant de remplir le sac.\n",
    "\n",
    "### Question 3.\n",
    "Le test d'admissibilité (TA) réussit si la capacité du restante du sac est négative. Le test d'optimalité (TO) réussit si la borne supérieure obtenue est moins bonne que la meilleure solution connue. Le test de réalisabilité (TR) réussit si le calcul de la borne supérieure donne des valeurs qui respectent les contraintes aux variables (ici binaire).\n",
    "\n",
    "### Question 4.\n",
    "La stratégie d'exploration est le parcours en profondeur à gauche."
   ]
  }
 ],
 "metadata": {
  "kernelspec": {
   "display_name": "Julia 1.9.4",
   "language": "julia",
   "name": "julia-1.9"
  },
  "language_info": {
   "file_extension": ".jl",
   "mimetype": "application/julia",
   "name": "julia",
   "version": "1.9.4"
  }
 },
 "nbformat": 4,
 "nbformat_minor": 4
}
