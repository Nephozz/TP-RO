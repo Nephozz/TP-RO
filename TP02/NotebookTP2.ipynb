{
 "cells": [
  {
   "cell_type": "markdown",
   "metadata": {},
   "source": [
    "# TP 2 : Branch-and-bound applied to a knapsack problem"
   ]
  },
  {
   "cell_type": "markdown",
   "metadata": {},
   "source": [
    "### Initialisation (à faire une seule fois)"
   ]
  },
  {
   "cell_type": "code",
   "execution_count": 73,
   "metadata": {},
   "outputs": [
    {
     "name": "stderr",
     "output_type": "stream",
     "text": [
      "\u001b[32m\u001b[1m   Resolving\u001b[22m\u001b[39m package versions...\n"
     ]
    },
    {
     "name": "stderr",
     "output_type": "stream",
     "text": [
      "\u001b[32m\u001b[1m  No Changes\u001b[22m\u001b[39m to `~/.julia/environments/v1.8/Project.toml`\n",
      "\u001b[32m\u001b[1m  No Changes\u001b[22m\u001b[39m to `~/.julia/environments/v1.8/Manifest.toml`\n"
     ]
    },
    {
     "name": "stderr",
     "output_type": "stream",
     "text": [
      "\u001b[32m\u001b[1m   Resolving\u001b[22m\u001b[39m package versions...\n"
     ]
    },
    {
     "name": "stderr",
     "output_type": "stream",
     "text": [
      "\u001b[32m\u001b[1m  No Changes\u001b[22m\u001b[39m to `~/.julia/environments/v1.8/Project.toml`\n",
      "\u001b[32m\u001b[1m  No Changes\u001b[22m\u001b[39m to `~/.julia/environments/v1.8/Manifest.toml`\n"
     ]
    }
   ],
   "source": [
    "import Pkg; \n",
    "Pkg.add(\"GraphRecipes\"); Pkg.add(\"Plots\"); \n",
    "using GraphRecipes, Plots #only used to visualize the search tree at the end of the branch-and-bound"
   ]
  },
  {
   "cell_type": "markdown",
   "metadata": {},
   "source": [
    "### Récupération des données"
   ]
  },
  {
   "cell_type": "code",
   "execution_count": 74,
   "metadata": {},
   "outputs": [
    {
     "data": {
      "text/plain": [
       "readKnaptxtInstance (generic function with 1 method)"
      ]
     },
     "metadata": {},
     "output_type": "display_data"
    }
   ],
   "source": [
    "function readKnaptxtInstance(filename)\n",
    "    price=Int64[]\n",
    "    weight=Int64[]\n",
    "    KnapCap=Int64[]\n",
    "    open(filename) do f\n",
    "        for i in 1:3\n",
    "            tok = split(readline(f))\n",
    "            if(tok[1] == \"ListPrices=\")\n",
    "                for i in 2:(length(tok)-1)\n",
    "                    push!(price,parse(Int64, tok[i]))\n",
    "                end\n",
    "            elseif(tok[1] == \"ListWeights=\")\n",
    "                for i in 2:(length(tok)-1)\n",
    "                    push!(weight,parse(Int64, tok[i]))\n",
    "                end\n",
    "            elseif(tok[1] == \"Capacity=\")\n",
    "                push!(KnapCap, parse(Int64, tok[2]))\n",
    "            else\n",
    "                println(\"Unknown read :\", tok)\n",
    "            end\n",
    "        end\n",
    "    end\n",
    "    capacity=KnapCap[1]\n",
    "    return price, weight, capacity\n",
    "end"
   ]
  },
  {
   "cell_type": "markdown",
   "metadata": {},
   "source": [
    "### Tests de sondabilités TA, TO et TR basés sur le modèle linéaire"
   ]
  },
  {
   "cell_type": "code",
   "execution_count": 75,
   "metadata": {},
   "outputs": [
    {
     "data": {
      "text/plain": [
       "testSondability_LP (generic function with 3 methods)"
      ]
     },
     "metadata": {},
     "output_type": "display_data"
    }
   ],
   "source": [
    "function testSondability_LP(remainingCapacity::Float64, listvals::Vector{Float64}, upperBound::Float64, BestProfit::Float64, Bestsol::Vector{Float64})\n",
    "    TA, TO, TR = false, false, false\n",
    "    if(remainingCapacity < 0)#Test de faisabilite\n",
    "        TA=true\n",
    "        println(\"TA\")\n",
    "    elseif(upperBound <= BestProfit) #Test d'optimalite\n",
    "        TO=true\n",
    "        println(\"TO\")\n",
    "    elseif( prod(abs.([round.(v, digits=0) for v in listvals]-listvals) .<= fill(10^-5, size(listvals))) \n",
    "        && prod([v .<= 1 for v in listvals])\n",
    "        ) #Test de resolution\n",
    "        TR=true\n",
    "        println(\"TR\")\n",
    "        #if (value(benef) >= BestProfit)\n",
    "        if (upperBound >= BestProfit)\n",
    "            Bestsol = listvals\n",
    "            #BestProfit=value(benef)\n",
    "            BestProfit= upperBound\n",
    "            println(\"\\nNew Solution memorized \", Bestsol, \" with bestprofit \", BestProfit, \"\\n\")\n",
    "        end\n",
    "    else\n",
    "        println(\"non sondable\")\n",
    "    end\n",
    "    TA, TO, TR, Bestsol, BestProfit\n",
    "end"
   ]
  },
  {
   "cell_type": "markdown",
   "metadata": {},
   "source": [
    "## Procédure de séparation (branching) et stratégie d'exploration permettant de se placer au prochain noeud à traiter"
   ]
  },
  {
   "cell_type": "code",
   "execution_count": 76,
   "metadata": {},
   "outputs": [
    {
     "data": {
      "text/plain": [
       "exploreNextNode_depthfirst! (generic function with 1 method)"
      ]
     },
     "metadata": {},
     "output_type": "display_data"
    }
   ],
   "source": [
    "function separateNodeThenchooseNext_lexicographic_depthfirst!(listobjs, listvals, n)\n",
    "    # this node is non-sondable. Apply the branching criterion to separate it into two subnodes\n",
    "    # and choose the child-node at the left\n",
    "\n",
    "    # lexicographic branching criterion: branch on the 1st object not yet fixed\n",
    "    i, obj = 1, 0\n",
    "    while((i <= n) && (obj==0))\n",
    "        if(!(i in listobjs))\n",
    "            obj=i\n",
    "        end\n",
    "        i+=1\n",
    "    end\n",
    "\n",
    "    println(\"\\nbranch on object \", obj, \"\\n\")\n",
    "\n",
    "    # depthfirst exploration strategy: the node selected will be the most left of the child-nodes just created\n",
    "    push!(listobjs,obj) #save the identity of the object selected for branching\n",
    "    push!(listvals,1.0) #save the node selected, identified by the value assigned to the variable/object chosen\n",
    "end\n",
    "\n",
    "\n",
    "function exploreNextNode_depthfirst!(listobjs, listvals, listnodes)\n",
    "    #this node is sondable, go back to parent node then right child if possible\n",
    "\n",
    "    stop=false\n",
    "    #check if we are not at the root node\n",
    "    if (length(listobjs)>= 1)\n",
    "        #go back to parent node\n",
    "        obj=pop!(listobjs)\n",
    "        theval=pop!(listvals)\n",
    "        tmp=pop!(listnodes)\n",
    "\n",
    "        #go to right child if possible, otherwise go back to parent\n",
    "        while( (theval==0.0) && (length(listobjs)>= 1))\n",
    "            obj=pop!(listobjs)\n",
    "            theval=pop!(listvals)\n",
    "            tmp=pop!(listnodes)\n",
    "        end\n",
    "        if theval==1.0\n",
    "            push!(listobjs,obj)\n",
    "            push!(listvals,0.0)\n",
    "        else\n",
    "            println(\"\\nFINISHED\")\n",
    "            stop=true\n",
    "        end\n",
    "    else\n",
    "        #the root node was sondable\n",
    "        println(\"\\nFINISHED\")\n",
    "        stop=true\n",
    "    end\n",
    "    return stop\n",
    "end"
   ]
  },
  {
   "cell_type": "markdown",
   "metadata": {},
   "source": [
    "###  Création de la relaxation linéaire (= modèle associé au noeud 0): <span style=\"color:red\"> SECTION A SUPPRIMER !!!! </span>\n",
    "\n",
    "<span style=\"color:red\"> Cette section est à commenter/supprimer et remplacer par vos propres calculs de bornes supérieures et autres, par exemple basées sur les bornes 1 et 2 vues en cours, ou d'autres calculs de bornes de votre choix/conception validés au préalable par votre encadrant/e de TP </span>"
   ]
  },
  {
   "cell_type": "code",
   "execution_count": 77,
   "metadata": {},
   "outputs": [
    {
     "data": {
      "text/plain": [
       "borneSup1 (generic function with 1 method)"
      ]
     },
     "metadata": {},
     "output_type": "display_data"
    }
   ],
   "source": [
    "function bestRatio(weight, price)\n",
    "    # compute objects ratios\n",
    "    ratio = [p/w for (p,w) in (price,weight)]\n",
    "\n",
    "    # return the list of objects index sorted by best ratio\n",
    "    return sortperm(ratio, rev=true)\n",
    "end\n",
    "\n",
    "function borneSup1(price, weight, remainingCapacity, listobjs, listvals)\n",
    "    listratio = bestRatio(weight, price)\n",
    "    \n",
    "    # find the best ratio object available\n",
    "    i = first(filter(x -> !(x in listobjs), listratio))\n",
    "\n",
    "    # compute the upper bound\n",
    "    upperBound = remainingCapacity * price[i]/weight[i]\n",
    "\n",
    "    # update the lists of values\n",
    "    #push!(listvals, remainingCapacity)\n",
    "    #push!(listobjs, i)\n",
    "    \n",
    "    return upperBound\n",
    "end"
   ]
  },
  {
   "cell_type": "markdown",
   "metadata": {},
   "source": [
    "### Boucle principale : résoudre une relaxation, appliquer les tests de sondabilité, identifier le prochain noeud, répéter."
   ]
  },
  {
   "cell_type": "code",
   "execution_count": 78,
   "metadata": {},
   "outputs": [
    {
     "data": {
      "text/plain": [
       "solveKnapInstance (generic function with 1 method)"
      ]
     },
     "metadata": {},
     "output_type": "display_data"
    }
   ],
   "source": [
    "function solveKnapInstance(filename)\n",
    "\n",
    "    price, weight, capacity = readKnaptxtInstance(filename)\n",
    "\n",
    "    #create the structure to memorize the search tree for visualization at the end\n",
    "    trParentnodes=Int64[] #will store orig node of arc in search tree\n",
    "    trChildnodes=Int64[] #will store destination node of arc in search tree\n",
    "    trNamenodes=[] #will store names of nodes in search tree\n",
    "\n",
    "    #intermediate structure to navigate in the search tree\n",
    "    listobjs=Int64[]\n",
    "    listvals=Float64[]\n",
    "    listnodes=Int64[]\n",
    "\n",
    "    BestProfit::Float64=-1.0\n",
    "    Bestsol=Float64[]\n",
    "\n",
    "    remainingCapacity = capacity\n",
    "\n",
    "    current_node_number::Int64=0\n",
    "    stop = false\n",
    "\n",
    "    while(!stop)\n",
    "\n",
    "        println(\"\\nNode number \", current_node_number, \": \\n---------------\\n\")\n",
    "\n",
    "        #Update the graphical tree\n",
    "        push!(trNamenodes,current_node_number+1) \n",
    "        if(length(trNamenodes)>=2)\n",
    "            push!(trParentnodes,listnodes[end]+1) # +1 because the 1st node is \"node 0\"\n",
    "            push!(trChildnodes, current_node_number+1) # +1 because the 1st node is \"node 0\"\n",
    "        end\n",
    "        push!(listnodes, current_node_number)\n",
    "\n",
    "        \n",
    "        print(\"Solve the LP model of the current node to compute its bound: start ... \")\n",
    "\n",
    "        upperBound = borneSup1(price, weight, remainingCapacity, listobjs, listvals)\n",
    "\n",
    "        println(\"... end\"); \n",
    "\n",
    "        \n",
    "        println(\"\\nPrevious Solution memorized \", Bestsol, \" with bestprofit \", BestProfit, \"\\n\")\n",
    "\n",
    "        TA, TO, TR, Bestsol, BestProfit = testSondability_LP(remainingCapacity, listvals, upperBound, BestProfit, Bestsol)\n",
    "\n",
    "        is_node_sondable = TA || TO || TR\n",
    "\n",
    "\n",
    "        if(!is_node_sondable)\n",
    "            separateNodeThenchooseNext_lexicographic_depthfirst!(listobjs, listvals, length(price))\n",
    "            remainingCapacity -= sum(listvals)\n",
    "        else\n",
    "            stop = exploreNextNode_depthfirst!(listobjs, listvals, listnodes)\n",
    "        end\n",
    "        \n",
    "        current_node_number = current_node_number + 1\n",
    "    end\n",
    "\n",
    "    println(\"\\n******\\n\\nOptimal value = \", BestProfit, \"\\n\\nOptimal x=\", Bestsol)\n",
    "\n",
    "    return BestProfit, Bestsol, trParentnodes, trChildnodes, trNamenodes\n",
    "\n",
    "end"
   ]
  },
  {
   "cell_type": "markdown",
   "metadata": {},
   "source": [
    "### Affichage du résultat final"
   ]
  },
  {
   "cell_type": "code",
   "execution_count": 79,
   "metadata": {},
   "outputs": [
    {
     "data": {
      "text/plain": [
       "solveNdisplayKnap (generic function with 1 method)"
      ]
     },
     "metadata": {},
     "output_type": "display_data"
    }
   ],
   "source": [
    "function solveNdisplayKnap(filename)\n",
    "\n",
    "    println(\"\\n Branch-and-Bound for solving a knapsack problem. \\n\\n Solving instance '\" * filename * \"'\\n\")\n",
    "\n",
    "    BestProfit, Bestsol, trParentnodes, trChildnodes, trNamenodes = solveKnapInstance(filename)\n",
    "\n",
    "    println(\"\\n******\\n\\nOptimal value = \", BestProfit, \"\\n\\nOptimal x=\", Bestsol)\n",
    "\n",
    "    println(\"\\n Branch-and-bound tree visualization : start display ...\")\n",
    "    display(graphplot(trParentnodes, trChildnodes, names=trNamenodes, method=:tree))\n",
    "    println(\"... end display. \\n\\n\")\n",
    "\n",
    "end"
   ]
  },
  {
   "cell_type": "code",
   "execution_count": 80,
   "metadata": {},
   "outputs": [
    {
     "name": "stdout",
     "output_type": "stream",
     "text": [
      "\n",
      " Branch-and-Bound for solving a knapsack problem. \n",
      "\n",
      " Solving instance 'InstancesKnapSack/test.opb.txt'\n",
      "\n",
      "\n",
      "Node number 0: \n",
      "---------------\n",
      "\n",
      "Solve the LP model of the current node to compute its bound: start ... ... end\n",
      "\n",
      "Previous Solution memorized Float64[] with bestprofit -1.0\n",
      "\n",
      "TR\n",
      "\n",
      "New Solution memorized Float64[] with bestprofit 100.0\n",
      "\n",
      "\n",
      "FINISHED\n",
      "\n",
      "******\n",
      "\n",
      "Optimal value = 100.0\n",
      "\n",
      "Optimal x=Float64[]\n",
      "\n",
      "******\n",
      "\n",
      "Optimal value = 100.0\n",
      "\n",
      "Optimal x=Float64[]\n",
      "\n",
      " Branch-and-bound tree visualization : start display ...\n"
     ]
    },
    {
     "ename": "MethodError",
     "evalue": "MethodError: reducing over an empty collection is not allowed; consider supplying `init` to the reducer",
     "output_type": "error",
     "traceback": [
      "MethodError: reducing over an empty collection is not allowed; consider supplying `init` to the reducer\n",
      "\n",
      "Stacktrace:\n",
      "  [1] mapreduce_empty(#unused#::typeof(identity), op::Function, T::Type)\n",
      "    @ Base ./reduce.jl:367\n",
      "  [2] reduce_empty(op::Base.MappingRF{typeof(identity), typeof(max)}, #unused#::Type{Int64})\n",
      "    @ Base ./reduce.jl:356\n",
      "  [3] reduce_empty_iter\n",
      "    @ ./reduce.jl:379 [inlined]\n",
      "  [4] mapreduce_empty_iter(f::Function, op::Function, itr::Vector{Int64}, ItrEltype::Base.HasEltype)\n",
      "    @ Base ./reduce.jl:375\n",
      "  [5] _mapreduce\n",
      "    @ ./reduce.jl:427 [inlined]\n",
      "  [6] _mapreduce_dim\n",
      "    @ ./reducedim.jl:365 [inlined]\n",
      "  [7] #mapreduce#765\n",
      "    @ ./reducedim.jl:357 [inlined]\n",
      "  [8] mapreduce\n",
      "    @ ./reducedim.jl:357 [inlined]\n",
      "  [9] #_maximum#783\n",
      "    @ ./reducedim.jl:999 [inlined]\n",
      " [10] _maximum\n",
      "    @ ./reducedim.jl:999 [inlined]\n",
      " [11] #_maximum#782\n",
      "    @ ./reducedim.jl:998 [inlined]\n",
      " [12] _maximum\n",
      "    @ ./reducedim.jl:998 [inlined]\n",
      " [13] #maximum#780\n",
      "    @ ./reducedim.jl:994 [inlined]\n",
      " [14] maximum\n",
      "    @ ./reducedim.jl:994 [inlined]\n",
      " [15] _broadcast_getindex_evalf\n",
      "    @ ./broadcast.jl:670 [inlined]\n",
      " [16] _broadcast_getindex\n",
      "    @ ./broadcast.jl:643 [inlined]\n",
      " [17] #29\n",
      "    @ ./broadcast.jl:1075 [inlined]\n",
      " [18] ntuple\n",
      "    @ ./ntuple.jl:49 [inlined]\n",
      " [19] copy(bc::Base.Broadcast.Broadcasted{Base.Broadcast.Style{Tuple}, Nothing, typeof(maximum), Tuple{Tuple{Vector{Int64}, Vector{Int64}}}})\n",
      "    @ Base.Broadcast ./broadcast.jl:1075\n",
      " [20] materialize\n",
      "    @ ./broadcast.jl:860 [inlined]\n",
      " [21] infer_size_from(::Vector{Int64}, ::Vararg{Vector{Int64}})\n",
      "    @ GraphRecipes ~/.julia/packages/GraphRecipes/rzVTu/src/graph_layouts.jl:3\n",
      " [22] get_adjacency_matrix(source::Vector{Int64}, destiny::Vector{Int64})\n",
      "    @ GraphRecipes ~/.julia/packages/GraphRecipes/rzVTu/src/graphs.jl:219\n",
      " [23] macro expansion\n",
      "    @ ~/.julia/packages/GraphRecipes/rzVTu/src/graphs.jl:415 [inlined]\n",
      " [24] apply_recipe(plotattributes::AbstractDict{Symbol, Any}, g::GraphRecipes.GraphPlot)\n",
      "    @ GraphRecipes ~/.julia/packages/RecipesBase/BRe07/src/RecipesBase.jl:300\n",
      " [25] _process_userrecipes!(plt::Any, plotattributes::Any, args::Any)\n",
      "    @ RecipesPipeline ~/.julia/packages/RecipesPipeline/BGM3l/src/user_recipe.jl:38\n",
      " [26] recipe_pipeline!(plt::Any, plotattributes::Any, args::Any)\n",
      "    @ RecipesPipeline ~/.julia/packages/RecipesPipeline/BGM3l/src/RecipesPipeline.jl:72\n",
      " [27] _plot!(plt::Plots.Plot, plotattributes::Any, args::Any)\n",
      "    @ Plots ~/.julia/packages/Plots/sxUvK/src/plot.jl:223\n",
      " [28] #plot#186\n",
      "    @ ~/.julia/packages/Plots/sxUvK/src/plot.jl:102 [inlined]\n",
      " [29] #graphplot#80\n",
      "    @ ~/.julia/packages/RecipesBase/BRe07/src/RecipesBase.jl:380 [inlined]\n",
      " [30] solveNdisplayKnap(filename::String)\n",
      "    @ Main ~/Documents/SN/2A/RO/TP02/NotebookTP2.ipynb:10\n",
      " [31] top-level scope\n",
      "    @ ~/Documents/SN/2A/RO/TP02/NotebookTP2.ipynb:3"
     ]
    }
   ],
   "source": [
    "INSTANCE = \"InstancesKnapSack/test.opb.txt\"\n",
    "\n",
    "solveNdisplayKnap(INSTANCE)\n",
    "\n",
    "println(\"press enter to exit ! \")\n",
    "readline()"
   ]
  },
  {
   "cell_type": "markdown",
   "metadata": {},
   "source": [
    "## Questions préliminaires\n",
    "\n",
    "### Question 1.\n",
    "La règle de séparation choisie est la règle lexicographique, c'est-à-dire que l'on branche sur le premier objet non-fixé en partant de l'objet 1.\n",
    "\n",
    "### Question 2.\n",
    "On trie d'abord  les objets par ratio décroissant et on sélectionne en entier les objets disponible de plus grand ratio pour lesquels la capacité du sac n'est pas dépassée. Dès qu'un objet ne peut plus rentrer entièrement, on n'en prend qu'une fraction permettant de remplir le sac.\n",
    "\n",
    "### Question 3.\n",
    "Le test d'admissibilité (TA) réussit si la capacité du restante du sac est négative. Le test d'optimalité (TO) réussit si la borne supérieure obtenue est moins bonne que la meilleure solution connue. Le test de réalisabilité (TR) réussit si le calcul de la borne supérieure donne des valeurs qui respectent les contraintes aux variables (ici binaire).\n",
    "\n",
    "### Question 4.\n",
    "La stratégie d'exploration est le parcours en profondeur à gauche."
   ]
  }
 ],
 "metadata": {
  "kernelspec": {
   "display_name": "Julia 1.8.5",
   "language": "julia",
   "name": "julia-1.8"
  },
  "language_info": {
   "file_extension": ".jl",
   "mimetype": "application/julia",
   "name": "julia",
   "version": "1.8.5"
  }
 },
 "nbformat": 4,
 "nbformat_minor": 4
}
